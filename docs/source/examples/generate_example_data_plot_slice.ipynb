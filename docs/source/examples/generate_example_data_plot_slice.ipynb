{
 "cells": [
  {
   "cell_type": "markdown",
   "id": "46076861-9722-4f36-8a70-75d390bf46e1",
   "metadata": {},
   "source": [
    "# Generate test data for `plot_slice`"
   ]
  },
  {
   "cell_type": "code",
   "execution_count": 1,
   "id": "12756ba9-1539-4ce2-8910-5ead4e5b48ed",
   "metadata": {},
   "outputs": [],
   "source": [
    "import numpy as np\n",
    "from nexusformat.nexus import *"
   ]
  },
  {
   "cell_type": "markdown",
   "id": "be79977d-4020-4e84-be99-20c08317bbbe",
   "metadata": {},
   "source": [
    "## Creating a test dataset (orthogonal axes)"
   ]
  },
  {
   "cell_type": "code",
   "execution_count": 2,
   "id": "fabb762f-cf16-4127-9df9-6a74b94e5415",
   "metadata": {},
   "outputs": [],
   "source": [
    "# Create an array\n",
    "array_size = (100, 150, 200)\n",
    "array = np.zeros(array_size)\n",
    "\n",
    "# Create coordinates for each point in the array\n",
    "x, y, z = np.meshgrid(np.linspace(0, 1, array_size[0]),\n",
    "                      np.linspace(0, 1, array_size[1]),\n",
    "                      np.linspace(0, 1, array_size[2]),\n",
    "                      indexing='ij')\n",
    "\n",
    "# Create a 3x3x3 grid of evenly spaced Gaussians\n",
    "grid_size = (3, 3, 3)\n",
    "grid_center = (0, 0, 0)\n",
    "std_dev = 0.1\n",
    "\n",
    "for i in range(grid_size[0]):\n",
    "    for j in range(grid_size[1]):\n",
    "        for k in range(grid_size[2]):\n",
    "            mean = ((i / (grid_size[0] - 1)),\n",
    "                    (j / (grid_size[1] - 1)),\n",
    "                    (k / (grid_size[2] - 1)))\n",
    "            gaussian = np.exp(-((x - grid_center[0] - mean[0]) ** 2 +\n",
    "                                (y - grid_center[1] - mean[1]) ** 2 +\n",
    "                                (z - grid_center[2] - mean[2]) ** 2) / (2 * std_dev ** 2))\n",
    "            array += gaussian\n",
    "\n",
    "# Normalize the array\n",
    "array /= np.max(array)\n",
    "\n",
    "H=NXfield(np.linspace(-1,1,array.shape[0]), name='H')\n",
    "K=NXfield(np.linspace(-1,1,array.shape[1]), name='K')\n",
    "L=NXfield(np.linspace(-1,1,array.shape[2]), name='L')\n",
    "data_cubic = NXdata(NXfield(array, name='counts'), (H, K, L))\n",
    "\n",
    "out = NXroot()\n",
    "out['entry'] = NXentry()\n",
    "out['entry']['data'] = data_cubic\n",
    "nxsave('example_data/plot_slice_data/cubic_hkli.nxs', out)"
   ]
  },
  {
   "cell_type": "markdown",
   "id": "0c2a5b97-990e-4c6f-aeb6-e7fe3e66ad20",
   "metadata": {},
   "source": [
    "## Creating a test dataset (hexagonal axes)"
   ]
  },
  {
   "cell_type": "code",
   "execution_count": 3,
   "id": "cca8e6cc-90af-432a-b67f-6c5f99fff94f",
   "metadata": {},
   "outputs": [],
   "source": [
    "# Create an array\n",
    "array_size = (100, 150, 200)\n",
    "array = np.zeros(array_size)\n",
    "\n",
    "# Create coordinates for each point in the array\n",
    "x, y, z = np.meshgrid(np.linspace(0, 1, array_size[0]),\n",
    "                      np.linspace(0, 1, array_size[1]),\n",
    "                      np.linspace(0, 1, array_size[2]),\n",
    "                      indexing='ij')\n",
    "\n",
    "# Create a 3x3x3 grid of evenly spaced Gaussians\n",
    "grid_size = (3, 3, 3)\n",
    "grid_center = (0, 0, 0)\n",
    "std_dev = 0.1\n",
    "\n",
    "for i in range(grid_size[0]):\n",
    "    for j in range(grid_size[1]):\n",
    "        for k in range(grid_size[2]):\n",
    "            mean = ((i / (grid_size[0] - 1)),\n",
    "                    (j / (grid_size[1] - 1)),\n",
    "                    (k / (grid_size[2] - 1)))\n",
    "            gaussian = np.exp(-((x - grid_center[0] - mean[0]) ** 2 +\n",
    "                                (x - grid_center[0] - mean[0])*(y - grid_center[1] - mean[1]) +\n",
    "                                (y - grid_center[1] - mean[1]) ** 2 +\n",
    "                                (z - grid_center[2] - mean[2]) ** 2) / (2 * std_dev ** 2))\n",
    "            array += gaussian\n",
    "\n",
    "# Normalize the array\n",
    "array /= np.max(array)\n",
    "\n",
    "H=NXfield(np.linspace(-1,1,array.shape[0]), name='H')\n",
    "K=NXfield(np.linspace(-1,1,array.shape[1]), name='K')\n",
    "L=NXfield(np.linspace(-1,1,array.shape[2]), name='L')\n",
    "data_hex = NXdata(NXfield(array, name='counts'), (H, K, L))\n",
    "\n",
    "out = NXroot()\n",
    "out['entry'] = NXentry()\n",
    "out['entry']['data'] = data_hex\n",
    "nxsave('example_data/plot_slice_data/hex_hkli.nxs', out)"
   ]
  },
  {
   "cell_type": "markdown",
   "id": "e16510b3-22a7-44de-aa73-018a5ae205d7",
   "metadata": {},
   "source": [
    "# Creating a test dataset (symlogscale)"
   ]
  },
  {
   "cell_type": "code",
   "execution_count": 4,
   "id": "6a4bc7e9-c01a-4b90-a157-0e982ecd3ee6",
   "metadata": {},
   "outputs": [],
   "source": [
    "X,Y = np.meshgrid(H,K)\n",
    "data_sym = NXdata(NXfield(((np.sin(X*4)/2 + np.sin(Y*4))).transpose(), name='counts'),(H,K))\n",
    "\n",
    "out = NXroot()\n",
    "out['entry'] = NXentry()\n",
    "out['entry']['data'] = data_sym\n",
    "nxsave('example_data/plot_slice_data/sym_hkli.nxs', out)"
   ]
  }
 ],
 "metadata": {
  "kernelspec": {
   "display_name": "Python 3 (ipykernel)",
   "language": "python",
   "name": "python3"
  },
  "language_info": {
   "codemirror_mode": {
    "name": "ipython",
    "version": 3
   },
   "file_extension": ".py",
   "mimetype": "text/x-python",
   "name": "python",
   "nbconvert_exporter": "python",
   "pygments_lexer": "ipython3",
   "version": "3.11.3"
  }
 },
 "nbformat": 4,
 "nbformat_minor": 5
}
