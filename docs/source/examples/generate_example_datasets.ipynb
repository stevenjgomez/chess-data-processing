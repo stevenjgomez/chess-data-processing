{
 "cells": [
  {
   "cell_type": "markdown",
   "id": "e1ad2d56-8273-4878-9629-f22d25570058",
   "metadata": {},
   "source": [
    "# Generate example datasets"
   ]
  },
  {
   "cell_type": "code",
   "execution_count": 1,
   "id": "72e8c3c4-42ad-43b9-9cb8-930304c9c324",
   "metadata": {},
   "outputs": [],
   "source": [
    "import numpy as np\n",
    "from nexusformat.nexus import *"
   ]
  },
  {
   "cell_type": "code",
   "execution_count": 2,
   "id": "0cc8ffac-3fdc-4282-a565-cc062876a1ed",
   "metadata": {
    "tags": []
   },
   "outputs": [],
   "source": [
    "std_devs = [0.03, 0.05, 0.08]\n",
    "\n",
    "for idx, T in enumerate(['15', '100', '300']):\n",
    "    # Create an array\n",
    "    array_size = (100, 150, 200)\n",
    "    array = np.zeros(array_size)\n",
    "\n",
    "    # Create coordinates for each point in the array\n",
    "    x, y, z = np.meshgrid(np.linspace(0, 1, array_size[0]),\n",
    "                          np.linspace(0, 1, array_size[1]),\n",
    "                          np.linspace(0, 1, array_size[2]),\n",
    "                          indexing='ij')\n",
    "\n",
    "    # Create a 3x3x3 grid of evenly spaced Gaussians\n",
    "    grid_size = (3, 3, 3)\n",
    "    grid_center = (0, 0, 0)\n",
    "    std_dev = std_devs[idx]\n",
    "\n",
    "    for i in range(grid_size[0]):\n",
    "        for j in range(grid_size[1]):\n",
    "            for k in range(grid_size[2]):\n",
    "                mean = ((i / (grid_size[0] - 1)),\n",
    "                        (j / (grid_size[1] - 1)),\n",
    "                        (k / (grid_size[2] - 1)))\n",
    "                amplitude = 1 / (np.sqrt(2 * np.pi) * std_dev)\n",
    "                gaussian = amplitude * np.exp(-((x - grid_center[0] - mean[0]) ** 2 +\n",
    "                                                (y - grid_center[1] - mean[1]) ** 2 +\n",
    "                                                (z - grid_center[2] - mean[2]) ** 2) / (2 * std_dev ** 2))\n",
    "                array += gaussian\n",
    "\n",
    "    # Normalize the array\n",
    "    # array /= np.max(array)\n",
    "\n",
    "    H = NXfield(np.linspace(-1, 1, array.shape[0]), name='H')\n",
    "    K = NXfield(np.linspace(-1, 1, array.shape[1]), name='K')\n",
    "    L = NXfield(np.linspace(-1, 1, array.shape[2]), name='L')\n",
    "\n",
    "    data = NXdata(NXfield(array, name='counts'), (H, K, L))\n",
    "\n",
    "    out = NXroot()\n",
    "    out['entry'] = NXentry()\n",
    "    out['entry']['data'] = data\n",
    "    nxsave('example_data/sample_name/' + T + '/example_hkli.nxs', out)\n"
   ]
  }
 ],
 "metadata": {
  "kernelspec": {
   "display_name": "Python 3 (ipykernel)",
   "language": "python",
   "name": "python3"
  },
  "language_info": {
   "codemirror_mode": {
    "name": "ipython",
    "version": 3
   },
   "file_extension": ".py",
   "mimetype": "text/x-python",
   "name": "python",
   "nbconvert_exporter": "python",
   "pygments_lexer": "ipython3",
   "version": "3.11.3"
  }
 },
 "nbformat": 4,
 "nbformat_minor": 5
}
